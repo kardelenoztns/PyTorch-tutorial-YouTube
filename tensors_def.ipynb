{
  "nbformat": 4,
  "nbformat_minor": 0,
  "metadata": {
    "colab": {
      "provenance": [],
      "gpuType": "T4",
      "authorship_tag": "ABX9TyP2FHvu234KDn76LgcIYMLq",
      "include_colab_link": true
    },
    "kernelspec": {
      "name": "python3",
      "display_name": "Python 3"
    },
    "language_info": {
      "name": "python"
    },
    "accelerator": "GPU"
  },
  "cells": [
    {
      "cell_type": "markdown",
      "metadata": {
        "id": "view-in-github",
        "colab_type": "text"
      },
      "source": [
        "<a href=\"https://colab.research.google.com/github/kardelenoztns/PyTorch-tutorial-YouTube/blob/main/tensors_def.ipynb\" target=\"_parent\"><img src=\"https://colab.research.google.com/assets/colab-badge.svg\" alt=\"Open In Colab\"/></a>"
      ]
    },
    {
      "cell_type": "code",
      "execution_count": 12,
      "metadata": {
        "colab": {
          "base_uri": "https://localhost:8080/"
        },
        "id": "eGvPHOHkgTN4",
        "outputId": "2f0be6d8-44d7-4368-d37e-319d22bff809"
      },
      "outputs": [
        {
          "output_type": "execute_result",
          "data": {
            "text/plain": [
              "tensor([[0.5494, 0.7912, 0.4426, 0.9440],\n",
              "        [0.9100, 0.8631, 0.5329, 0.6451],\n",
              "        [0.7799, 0.8684, 0.7251, 0.5027]], dtype=torch.float64)"
            ]
          },
          "metadata": {},
          "execution_count": 12
        }
      ],
      "source": [
        "import torch\n",
        "import numpy as np\n",
        "\n",
        "my_list=[[1,2,3,4,5],[6,7,8,9,10]]\n",
        "my_list\n",
        "\n",
        "np1=np.random.rand(3,4)\n",
        "np1\n",
        "np1.dtype\n",
        "\n",
        "tensor_2d=torch.randn(3,4)\n",
        "tensor_2d\n",
        "\n",
        "tensor_3d=torch.zeros(2,3,4)\n",
        "tensor_3d\n",
        "\n",
        "#creating tensor out of numpy array\n",
        "my_tensor=torch.tensor(np1)\n",
        "my_tensor"
      ]
    }
  ]
}