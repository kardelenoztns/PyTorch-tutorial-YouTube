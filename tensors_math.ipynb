{
  "nbformat": 4,
  "nbformat_minor": 0,
  "metadata": {
    "colab": {
      "provenance": [],
      "gpuType": "T4",
      "authorship_tag": "ABX9TyMAhl4aXY42Kg/oNFv/LPWa",
      "include_colab_link": true
    },
    "kernelspec": {
      "name": "python3",
      "display_name": "Python 3"
    },
    "language_info": {
      "name": "python"
    },
    "accelerator": "GPU"
  },
  "cells": [
    {
      "cell_type": "markdown",
      "metadata": {
        "id": "view-in-github",
        "colab_type": "text"
      },
      "source": [
        "<a href=\"https://colab.research.google.com/github/kardelenoztns/PyTorch-tutorial-YouTube/blob/main/tensors_math.ipynb\" target=\"_parent\"><img src=\"https://colab.research.google.com/assets/colab-badge.svg\" alt=\"Open In Colab\"/></a>"
      ]
    },
    {
      "cell_type": "code",
      "execution_count": 18,
      "metadata": {
        "colab": {
          "base_uri": "https://localhost:8080/"
        },
        "id": "eGvPHOHkgTN4",
        "outputId": "692577e8-e8b2-4c97-eae3-3c5779d6ea85"
      },
      "outputs": [
        {
          "output_type": "execute_result",
          "data": {
            "text/plain": [
              "tensor([ 6,  8, 10, 12])"
            ]
          },
          "metadata": {},
          "execution_count": 18
        }
      ],
      "source": [
        "import torch\n",
        "import numpy as np\n",
        "\n",
        "tensor_a=torch.tensor([1,2,3,4])\n",
        "tensor_b=torch.tensor([5,6,7,8])\n",
        "\n",
        "#addition\n",
        "tensor_a+tensor_b\n",
        "\n",
        "#addition longhead\n",
        "torch.add(tensor_a,tensor_b)\n",
        "\n",
        "#subtarction\n",
        "tensor_b-tensor_a\n",
        "\n",
        "#sub function\n",
        "torch.sub(tensor_b,tensor_a)\n",
        "\n",
        "#multiplication\n",
        "tensor_a*tensor_b\n",
        "\n",
        "#mul longhead\n",
        "torch.mul(tensor_a,tensor_b)\n",
        "\n",
        "#division\n",
        "tensor_b/tensor_a\n",
        "\n",
        "#div longhand\n",
        "torch.div(tensor_b,tensor_a)\n",
        "\n",
        "#remainder modulus\n",
        "tensor_b % tensor_a\n",
        "\n",
        "#remainde longhand\n",
        "torch.remainder(tensor_b,tensor_a)\n",
        "\n",
        "#expopnents / power\n",
        "torch.pow(tensor_a,tensor_b)\n",
        "\n",
        "#another way to write longhand\n",
        "tensor_a.add(tensor_b)\n",
        "\n",
        "#reassignment\n",
        "#tensor_a = tensor_a + tensor_b\n",
        "tensor_a.add_(tensor_b)\n",
        "\n",
        "tensor_a\n"
      ]
    }
  ]
}