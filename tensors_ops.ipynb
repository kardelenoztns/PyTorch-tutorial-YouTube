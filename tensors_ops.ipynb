{
  "nbformat": 4,
  "nbformat_minor": 0,
  "metadata": {
    "colab": {
      "provenance": [],
      "gpuType": "T4",
      "authorship_tag": "ABX9TyPhfCp2rN7unzXQW7Iyu/DM",
      "include_colab_link": true
    },
    "kernelspec": {
      "name": "python3",
      "display_name": "Python 3"
    },
    "language_info": {
      "name": "python"
    },
    "accelerator": "GPU"
  },
  "cells": [
    {
      "cell_type": "markdown",
      "metadata": {
        "id": "view-in-github",
        "colab_type": "text"
      },
      "source": [
        "<a href=\"https://colab.research.google.com/github/kardelenoztns/PyTorch-tutorial-YouTube/blob/main/tensors_ops.ipynb\" target=\"_parent\"><img src=\"https://colab.research.google.com/assets/colab-badge.svg\" alt=\"Open In Colab\"/></a>"
      ]
    },
    {
      "cell_type": "code",
      "execution_count": 15,
      "metadata": {
        "colab": {
          "base_uri": "https://localhost:8080/"
        },
        "id": "eGvPHOHkgTN4",
        "outputId": "5c1d4633-c6cc-4d12-96e6-9627cb90c624"
      },
      "outputs": [
        {
          "output_type": "execute_result",
          "data": {
            "text/plain": [
              "tensor([[1],\n",
              "        [3],\n",
              "        [5],\n",
              "        [7],\n",
              "        [9]])"
            ]
          },
          "metadata": {},
          "execution_count": 15
        }
      ],
      "source": [
        "import torch\n",
        "\n",
        "my_torch=torch.arange(10)\n",
        "my_torch\n",
        "\n",
        "#reshape and view\n",
        "my_torch=my_torch.reshape(2,5)\n",
        "my_torch\n",
        "\n",
        "#reshape if we dont know the number of items using -1\n",
        "my_torch2=torch.arange(15)\n",
        "my_torch2\n",
        "\n",
        "my_torch2=my_torch2.reshape(3,-1)\n",
        "my_torch2\n",
        "\n",
        "my_torch2=my_torch2.reshape(-1,5)\n",
        "my_torch2\n",
        "\n",
        "my_torch3=torch.arange(10)\n",
        "my_torch3\n",
        "\n",
        "my_torch4=my_torch3.view(2,5)\n",
        "my_torch4\n",
        "\n",
        "my_torch5= torch.arange(10)\n",
        "my_torch5\n",
        "\n",
        "my_torch6=my_torch5.reshape(2,5)\n",
        "my_torch6\n",
        "\n",
        "my_torch5[1]=4141\n",
        "my_torch5\n",
        "\n",
        "my_torch6\n",
        "\n",
        "#slices\n",
        "my_torch7=torch.arange(10)\n",
        "my_torch7\n",
        "\n",
        "#grab a specific item\n",
        "my_torch7[7]\n",
        "\n",
        "#grab a slice\n",
        "my_torch8=my_torch7.reshape(5,2)\n",
        "my_torch8\n",
        "\n",
        "my_torch8[:,1]\n",
        "\n",
        "#return column\n",
        "my_torch8[:,1:]"
      ]
    }
  ]
}